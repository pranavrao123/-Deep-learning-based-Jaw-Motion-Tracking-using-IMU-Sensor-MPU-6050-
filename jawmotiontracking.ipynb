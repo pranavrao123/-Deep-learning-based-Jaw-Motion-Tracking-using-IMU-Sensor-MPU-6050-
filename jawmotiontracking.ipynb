{
  "nbformat": 4,
  "nbformat_minor": 0,
  "metadata": {
    "colab": {
      "provenance": []
    },
    "kernelspec": {
      "name": "python3",
      "display_name": "Python 3"
    },
    "language_info": {
      "name": "python"
    }
  },
  "cells": [
    {
      "cell_type": "code",
      "execution_count": 1,
      "metadata": {
        "id": "BLS-FaZkzD8H"
      },
      "outputs": [],
      "source": [
        "# ==============================================================\n",
        "# CNN-LSTM GRID SEARCH & TEST FOR MOTION CLASSIFICATION\n",
        "# ==============================================================\n",
        "import pandas as pd\n",
        "import numpy as np\n",
        "import matplotlib.pyplot as plt\n",
        "import seaborn as sns\n",
        "import joblib\n",
        "from sklearn.preprocessing import StandardScaler, LabelEncoder\n",
        "from sklearn.metrics import classification_report, confusion_matrix, accuracy_score\n",
        "from sklearn.model_selection import train_test_split\n",
        "from tensorflow.keras.models import Sequential\n",
        "from tensorflow.keras.layers import Conv1D, MaxPooling1D, LSTM, Dense, Dropout, BatchNormalization, Input\n",
        "from tensorflow.keras.callbacks import EarlyStopping, ReduceLROnPlateau\n",
        "from tensorflow.keras.optimizers import Adam\n",
        "from tensorflow.keras.regularizers import l2\n",
        "from tensorflow.keras.utils import to_categorical\n",
        "import tensorflow as tf\n",
        "import warnings\n",
        "warnings.filterwarnings('ignore')"
      ]
    },
    {
      "cell_type": "code",
      "source": [
        "# ---------------------------------------------------------------\n",
        "# CONFIG\n",
        "# ---------------------------------------------------------------\n",
        "FEATURE_COLUMNS = ['AX', 'AY', 'AZ', 'GX', 'GY', 'GZ']\n",
        "AUGMENTATION_MULTIPLIER = 3\n",
        "EPOCHS = 100\n",
        "BATCH_SIZE = 32"
      ],
      "metadata": {
        "id": "JXW93foiG_fC"
      },
      "execution_count": 2,
      "outputs": []
    },
    {
      "cell_type": "code",
      "source": [
        "# ---------------------------------------------------------------\n",
        "# FUNCTIONS\n",
        "# ---------------------------------------------------------------\n",
        "def augment_data(X_batch, jitter_strength=0.02, scale_strength=0.15, warp_strength=0.1):\n",
        "    X_augmented = np.copy(X_batch)\n",
        "    X_augmented += np.random.normal(0, jitter_strength, X_augmented.shape)\n",
        "    scale_factor = np.random.uniform(1 - scale_strength, 1 + scale_strength,\n",
        "                                     size=(X_augmented.shape[0], 1, X_augmented.shape[2]))\n",
        "    X_augmented *= scale_factor\n",
        "    for i in range(X_augmented.shape[0]):\n",
        "        t = np.linspace(0, 1, X_augmented.shape[1])\n",
        "        warp_noise = np.random.normal(0, warp_strength, X_augmented.shape[1])\n",
        "        warp_path = np.cumsum(warp_noise)\n",
        "        warp_path = (warp_path - warp_path.min()) / (warp_path.max() - warp_path.min() + 1e-8)\n",
        "        warped_t = warp_path * (X_augmented.shape[1] - 1)\n",
        "        for f in range(X_augmented.shape[2]):\n",
        "            X_augmented[i,:,f] = np.interp(np.arange(X_augmented.shape[1]), warped_t, X_augmented[i,:,f])\n",
        "        magnitude_noise = np.random.normal(0, warp_strength, X_augmented.shape[1])\n",
        "        magnitude_warp = np.cumsum(magnitude_noise)\n",
        "        magnitude_warp = (magnitude_warp - magnitude_warp.min()) / (magnitude_warp.max() - magnitude_warp.min() + 1e-8)\n",
        "        magnitude_warp = 1 + (magnitude_warp * 2 - 1) * scale_strength\n",
        "        for f in range(X_augmented.shape[2]):\n",
        "            X_augmented[i,:,f] *= magnitude_warp\n",
        "    return X_augmented\n",
        "\n",
        "def create_windows(X, y, window_size, stride):\n",
        "    Xs, ys = [], []\n",
        "    for i in range(0, len(X) - window_size + 1, stride):\n",
        "        window = X[i:i+window_size]\n",
        "        label = np.bincount(y[i:i+window_size]).argmax()\n",
        "        Xs.append(window)\n",
        "        ys.append(label)\n",
        "    return np.array(Xs), np.array(ys)\n",
        "\n",
        "def build_model(input_shape, num_classes, dropout_rate, l2_reg):\n",
        "    model = Sequential([\n",
        "        Input(shape=input_shape),\n",
        "        Conv1D(128, 7, activation='relu', kernel_regularizer=l2(l2_reg), padding='same'),\n",
        "        BatchNormalization(),\n",
        "        MaxPooling1D(2),\n",
        "        Dropout(dropout_rate),\n",
        "        Conv1D(64, 5, activation='relu', kernel_regularizer=l2(l2_reg), padding='same'),\n",
        "        BatchNormalization(),\n",
        "        MaxPooling1D(2),\n",
        "        Dropout(dropout_rate),\n",
        "        Conv1D(32, 3, activation='relu', kernel_regularizer=l2(l2_reg), padding='same'),\n",
        "        BatchNormalization(),\n",
        "        Dropout(dropout_rate),\n",
        "        LSTM(128, return_sequences=True, kernel_regularizer=l2(l2_reg)),\n",
        "        Dropout(dropout_rate),\n",
        "        LSTM(64, kernel_regularizer=l2(l2_reg)),\n",
        "        Dropout(dropout_rate),\n",
        "        Dense(64, activation='relu', kernel_regularizer=l2(l2_reg)),\n",
        "        Dropout(dropout_rate),\n",
        "        Dense(32, activation='relu', kernel_regularizer=l2(l2_reg)),\n",
        "        Dropout(dropout_rate),\n",
        "        Dense(num_classes, activation='softmax')\n",
        "    ])\n",
        "    return model"
      ],
      "metadata": {
        "id": "kXvHo3noHDqz"
      },
      "execution_count": 3,
      "outputs": []
    },
    {
      "cell_type": "code",
      "source": [
        "# ---------------------------------------------------------------\n",
        "# LOAD & PREPROCESS\n",
        "# ---------------------------------------------------------------\n",
        "print(\"=\"*60)\n",
        "print(\"LOADING TRAINING DATA & PREPROCESSING\")\n",
        "df_train = pd.read_csv(\"master_train.csv\")\n",
        "X_raw = df_train[FEATURE_COLUMNS].values\n",
        "y_raw = df_train['Label'].values\n",
        "le = LabelEncoder()\n",
        "y_enc = le.fit_transform(y_raw)\n",
        "scaler = StandardScaler()\n",
        "X_scaled = scaler.fit_transform(X_raw)\n",
        "num_classes = len(le.classes_)\n",
        "print(f\"Classes: {le.classes_}\")\n",
        "# ---------------------------------------------------------------\n",
        "# GRID SEARCH\n",
        "# ---------------------------------------------------------------\n",
        "param_grid = [\n",
        "    {'WINDOW_SIZE':32, 'STRIDE':8, 'LEARNING_RATE':0.0001, 'DROPOUT_RATE':0.3, 'L2_REG':0.001},\n",
        "    {'WINDOW_SIZE':36, 'STRIDE':10, 'LEARNING_RATE':0.0001, 'DROPOUT_RATE':0.3, 'L2_REG':0.001},\n",
        "    {'WINDOW_SIZE':48, 'STRIDE':12, 'LEARNING_RATE':0.0005, 'DROPOUT_RATE':0.4, 'L2_REG':0.001},\n",
        "    {'WINDOW_SIZE':60, 'STRIDE':15, 'LEARNING_RATE':0.001, 'DROPOUT_RATE':0.5, 'L2_REG':0.0005},\n",
        "    {'WINDOW_SIZE':40, 'STRIDE':10, 'LEARNING_RATE':0.0003, 'DROPOUT_RATE':0.3, 'L2_REG':0.001}\n",
        "]\n",
        "\n",
        "best_accuracy = 0\n",
        "best_config = None\n",
        "best_model = None\n",
        "\n",
        "print(\"=\"*60)\n",
        "print(\"STARTING GRID SEARCH\")\n",
        "for config in param_grid:\n",
        "    print(f\"\\nTrying config: {config}\")\n",
        "    X_win, y_win = create_windows(X_scaled, y_enc, config['WINDOW_SIZE'], config['STRIDE'])\n",
        "    X_train, X_val, y_train, y_val = train_test_split(X_win, y_win, test_size=0.2, stratify=y_win, random_state=42)\n",
        "\n",
        "    X_aug, y_aug = [], []\n",
        "    swallow_idx = le.transform(['Swallow'])[0]\n",
        "\n",
        "    for i in range(X_train.shape[0]):\n",
        "        X_aug.append(X_train[i])\n",
        "        y_aug.append(y_train[i])\n",
        "        extra_aug = AUGMENTATION_MULTIPLIER + 2 if y_train[i] == swallow_idx else AUGMENTATION_MULTIPLIER - 1\n",
        "        for _ in range(extra_aug):\n",
        "            X_aug.append(augment_data(X_train[i][np.newaxis,:,:])[0])\n",
        "            y_aug.append(y_train[i])\n",
        "\n",
        "    X_aug, y_aug = np.array(X_aug), np.array(y_aug)\n",
        "\n",
        "    y_train_cat = to_categorical(y_aug, num_classes)\n",
        "    y_val_cat = to_categorical(y_val, num_classes)\n",
        "\n",
        "    callbacks = [\n",
        "        EarlyStopping(monitor='val_loss', patience=20, restore_best_weights=True),\n",
        "        ReduceLROnPlateau(monitor='val_loss', factor=0.5, patience=10, min_lr=1e-5)\n",
        "    ]\n",
        "\n",
        "    model = build_model((config['WINDOW_SIZE'], X_train.shape[2]), num_classes,\n",
        "                        config['DROPOUT_RATE'], config['L2_REG'])\n",
        "    model.compile(optimizer=Adam(learning_rate=config['LEARNING_RATE']),\n",
        "                  loss='categorical_crossentropy', metrics=['accuracy'])\n",
        "    model.fit(X_aug, y_train_cat, validation_data=(X_val, y_val_cat),\n",
        "              epochs=EPOCHS, batch_size=BATCH_SIZE, callbacks=callbacks, verbose=0)\n",
        "\n",
        "    preds = np.argmax(model.predict(X_val), axis=1)\n",
        "    acc = accuracy_score(y_val, preds)\n",
        "    print(f\"Validation Accuracy: {acc*100:.2f}%\")\n",
        "    if acc > best_accuracy:\n",
        "        best_accuracy = acc\n",
        "        best_config = config\n",
        "        best_model = model\n",
        "\n",
        "print(\"\\n\" + \"=\"*60)\n",
        "print(\"BEST CONFIGURATION\")\n",
        "print(f\"Config: {best_config}\")\n",
        "print(f\"Best Validation Accuracy: {best_accuracy*100:.2f}%\")\n",
        "best_model.save(\"best_model_grid_search.h5\")\n",
        "joblib.dump(le, \"label_encoder.pkl\")\n",
        "joblib.dump(scaler, \"scaler.pkl\")"
      ],
      "metadata": {
        "colab": {
          "base_uri": "https://localhost:8080/"
        },
        "id": "8nnYE1nAHJaZ",
        "outputId": "03860976-522d-45ea-e53f-afbb5d884b19"
      },
      "execution_count": 4,
      "outputs": [
        {
          "output_type": "stream",
          "name": "stdout",
          "text": [
            "============================================================\n",
            "LOADING TRAINING DATA & PREPROCESSING\n",
            "Classes: ['Chew' 'HeadNodding' 'Swallow' 'Yawn']\n",
            "============================================================\n",
            "STARTING GRID SEARCH\n",
            "\n",
            "Trying config: {'WINDOW_SIZE': 32, 'STRIDE': 8, 'LEARNING_RATE': 0.0001, 'DROPOUT_RATE': 0.3, 'L2_REG': 0.001}\n",
            "\u001b[1m5/5\u001b[0m \u001b[32m━━━━━━━━━━━━━━━━━━━━\u001b[0m\u001b[37m\u001b[0m \u001b[1m1s\u001b[0m 110ms/step\n",
            "Validation Accuracy: 97.90%\n",
            "\n",
            "Trying config: {'WINDOW_SIZE': 36, 'STRIDE': 10, 'LEARNING_RATE': 0.0001, 'DROPOUT_RATE': 0.3, 'L2_REG': 0.001}\n",
            "\u001b[1m4/4\u001b[0m \u001b[32m━━━━━━━━━━━━━━━━━━━━\u001b[0m\u001b[37m\u001b[0m \u001b[1m1s\u001b[0m 135ms/step\n",
            "Validation Accuracy: 100.00%\n",
            "\n",
            "Trying config: {'WINDOW_SIZE': 48, 'STRIDE': 12, 'LEARNING_RATE': 0.0005, 'DROPOUT_RATE': 0.4, 'L2_REG': 0.001}\n"
          ]
        },
        {
          "output_type": "stream",
          "name": "stderr",
          "text": [
            "WARNING:tensorflow:5 out of the last 10 calls to <function TensorFlowTrainer.make_predict_function.<locals>.one_step_on_data_distributed at 0x7be67499b2e0> triggered tf.function retracing. Tracing is expensive and the excessive number of tracings could be due to (1) creating @tf.function repeatedly in a loop, (2) passing tensors with different shapes, (3) passing Python objects instead of tensors. For (1), please define your @tf.function outside of the loop. For (2), @tf.function has reduce_retracing=True option that can avoid unnecessary retracing. For (3), please refer to https://www.tensorflow.org/guide/function#controlling_retracing and https://www.tensorflow.org/api_docs/python/tf/function for  more details.\n"
          ]
        },
        {
          "output_type": "stream",
          "name": "stdout",
          "text": [
            "\r\u001b[1m1/3\u001b[0m \u001b[32m━━━━━━\u001b[0m\u001b[37m━━━━━━━━━━━━━━\u001b[0m \u001b[1m0s\u001b[0m 388ms/step"
          ]
        },
        {
          "output_type": "stream",
          "name": "stderr",
          "text": [
            "WARNING:tensorflow:6 out of the last 12 calls to <function TensorFlowTrainer.make_predict_function.<locals>.one_step_on_data_distributed at 0x7be67499b2e0> triggered tf.function retracing. Tracing is expensive and the excessive number of tracings could be due to (1) creating @tf.function repeatedly in a loop, (2) passing tensors with different shapes, (3) passing Python objects instead of tensors. For (1), please define your @tf.function outside of the loop. For (2), @tf.function has reduce_retracing=True option that can avoid unnecessary retracing. For (3), please refer to https://www.tensorflow.org/guide/function#controlling_retracing and https://www.tensorflow.org/api_docs/python/tf/function for  more details.\n"
          ]
        },
        {
          "output_type": "stream",
          "name": "stdout",
          "text": [
            "\u001b[1m3/3\u001b[0m \u001b[32m━━━━━━━━━━━━━━━━━━━━\u001b[0m\u001b[37m\u001b[0m \u001b[1m1s\u001b[0m 203ms/step\n",
            "Validation Accuracy: 98.95%\n",
            "\n",
            "Trying config: {'WINDOW_SIZE': 60, 'STRIDE': 15, 'LEARNING_RATE': 0.001, 'DROPOUT_RATE': 0.5, 'L2_REG': 0.0005}\n",
            "\u001b[1m3/3\u001b[0m \u001b[32m━━━━━━━━━━━━━━━━━━━━\u001b[0m\u001b[37m\u001b[0m \u001b[1m1s\u001b[0m 202ms/step\n",
            "Validation Accuracy: 100.00%\n",
            "\n",
            "Trying config: {'WINDOW_SIZE': 40, 'STRIDE': 10, 'LEARNING_RATE': 0.0003, 'DROPOUT_RATE': 0.3, 'L2_REG': 0.001}\n",
            "\u001b[1m4/4\u001b[0m \u001b[32m━━━━━━━━━━━━━━━━━━━━\u001b[0m\u001b[37m\u001b[0m \u001b[1m1s\u001b[0m 211ms/step\n"
          ]
        },
        {
          "output_type": "stream",
          "name": "stderr",
          "text": [
            "WARNING:absl:You are saving your model as an HDF5 file via `model.save()` or `keras.saving.save_model(model)`. This file format is considered legacy. We recommend using instead the native Keras format, e.g. `model.save('my_model.keras')` or `keras.saving.save_model(model, 'my_model.keras')`. \n"
          ]
        },
        {
          "output_type": "stream",
          "name": "stdout",
          "text": [
            "Validation Accuracy: 99.12%\n",
            "\n",
            "============================================================\n",
            "BEST CONFIGURATION\n",
            "Config: {'WINDOW_SIZE': 36, 'STRIDE': 10, 'LEARNING_RATE': 0.0001, 'DROPOUT_RATE': 0.3, 'L2_REG': 0.001}\n",
            "Best Validation Accuracy: 100.00%\n"
          ]
        },
        {
          "output_type": "execute_result",
          "data": {
            "text/plain": [
              "['scaler.pkl']"
            ]
          },
          "metadata": {},
          "execution_count": 4
        }
      ]
    },
    {
      "cell_type": "code",
      "source": [
        "# ---------------------------------------------------------------\n",
        "# TESTING ON FINAL TEST DATA\n",
        "# ---------------------------------------------------------------\n",
        "print(\"\\n\" + \"=\"*60)\n",
        "print(\"LOADING TEST DATA & EVALUATING BEST MODEL\")\n",
        "df_test = pd.read_csv(\"master_test.csv\")\n",
        "X_test_raw = df_test[FEATURE_COLUMNS].values\n",
        "y_test_raw = df_test['Label'].values\n",
        "y_test_enc = le.transform(y_test_raw)\n",
        "X_test_scaled = scaler.transform(X_test_raw)\n",
        "X_test_win, y_test_win = create_windows(X_test_scaled, y_test_enc,\n",
        "                                        best_config['WINDOW_SIZE'], best_config['STRIDE'])\n",
        "\n",
        "preds = np.argmax(best_model.predict(X_test_win), axis=1)\n",
        "acc = accuracy_score(y_test_win, preds)\n",
        "print(f\"\\nTest Accuracy: {acc*100:.2f}%\")\n",
        "print(classification_report(y_test_win, preds, target_names=le.classes_))\n",
        "\n",
        "cm = confusion_matrix(y_test_win, preds)\n",
        "plt.figure(figsize=(8,6))\n",
        "sns.heatmap(cm, annot=True, fmt='d', cmap='Blues', xticklabels=le.classes_, yticklabels=le.classes_)\n",
        "plt.title(\"Confusion Matrix on Test Data\")\n",
        "plt.xlabel(\"Predicted\"); plt.ylabel(\"True\")\n",
        "plt.tight_layout()\n",
        "plt.show()"
      ],
      "metadata": {
        "colab": {
          "base_uri": "https://localhost:8080/",
          "height": 813
        },
        "id": "0JfjZArRHNKV",
        "outputId": "fc083eee-6345-4f2a-a730-a53b20e390ac"
      },
      "execution_count": 5,
      "outputs": [
        {
          "output_type": "stream",
          "name": "stdout",
          "text": [
            "\n",
            "============================================================\n",
            "LOADING TEST DATA & EVALUATING BEST MODEL\n",
            "\u001b[1m18/18\u001b[0m \u001b[32m━━━━━━━━━━━━━━━━━━━━\u001b[0m\u001b[37m\u001b[0m \u001b[1m0s\u001b[0m 9ms/step\n",
            "\n",
            "Test Accuracy: 96.65%\n",
            "              precision    recall  f1-score   support\n",
            "\n",
            "        Chew       1.00      0.99      1.00       142\n",
            " HeadNodding       1.00      0.99      0.99       143\n",
            "     Swallow       0.99      0.89      0.94       141\n",
            "        Yawn       0.89      1.00      0.94       142\n",
            "\n",
            "    accuracy                           0.97       568\n",
            "   macro avg       0.97      0.97      0.97       568\n",
            "weighted avg       0.97      0.97      0.97       568\n",
            "\n"
          ]
        },
        {
          "output_type": "display_data",
          "data": {
            "text/plain": [
              "<Figure size 800x600 with 2 Axes>"
            ],
            "image/png": "[encoded data removed]"
          },
          "metadata": {}
        }
      ]
    }
  ]
}